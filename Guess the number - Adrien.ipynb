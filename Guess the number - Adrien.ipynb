{
 "cells": [
  {
   "cell_type": "code",
   "execution_count": null,
   "metadata": {},
   "outputs": [],
   "source": [
    "import random\n",
    "import sys"
   ]
  },
  {
   "cell_type": "code",
   "execution_count": null,
   "metadata": {},
   "outputs": [
    {
     "name": "stdout",
     "output_type": "stream",
     "text": [
      "Choose any integer between 1 and 100. Your number is 5\n",
      " Your number is an integer and we can continue! \n",
      " Your number of guesses left is 7\n",
      "Choose higher number. Your number is 5\n",
      " Your number is an integer and we can continue! \n",
      " Your number of guesses left is 6\n",
      "Choose higher number. Your number is 5\n",
      " Your number is an integer and we can continue! \n",
      " Your number of guesses left is 5\n",
      "Choose higher number. Your number is 5\n",
      " Your number is an integer and we can continue! \n",
      " Your number of guesses left is 4\n",
      "Choose higher number. Your number is 5\n",
      " Your number is an integer and we can continue! \n",
      " Your number of guesses left is 3\n",
      "Choose higher number. Your number is 5\n",
      " Your number is an integer and we can continue! \n",
      " Your number of guesses left is 2\n",
      "Choose higher number. Your number is 5\n",
      " Your number is an integer and we can continue! \n",
      " Your number of guesses left is 1\n",
      "Choose higher number. Your number is 5\n",
      " Your number is an integer and we can continue! \n",
      " Your number of guesses left is 0\n",
      "Choose higher number. Your number is 5\n",
      " Your number is an integer and we can continue! \n",
      "YOU LOOSE!\n",
      " The random number was 79\n"
     ]
    }
   ],
   "source": [
    "def condition_to_play_the_game(string=\"Choose any integer between 1 and 100. Your number is \"):\n",
    "    your_number = input(string)\n",
    "    if your_number.isdigit():\n",
    "        your_number = int(your_number)\n",
    "        print(\" Your number is an integer and we can continue! \")\n",
    "        return your_number\n",
    "    else:\n",
    "        print(\"You have not entered an integer. Please play again.  \")\n",
    "        sys.exit(1)\n",
    "\n",
    "def guess_the_number():\n",
    "    \n",
    "    Number_of_guesses_left = 8\n",
    "    \n",
    "    your_number = condition_to_play_the_game()\n",
    "        \n",
    "    random_number = random.randint(1,100)\n",
    "    if your_number == random_number:\n",
    "        print(\"YOU WIN WITH FIRST TRY, OMG!!\")\n",
    " \n",
    "    while your_number != random_number:\n",
    "        if your_number > random_number:\n",
    "            Number_of_guesses_left -= 1\n",
    "            print(f' Your number of guesses left is {Number_of_guesses_left}')\n",
    "            your_number = condition_to_play_the_game(\"Choose lower number. Your number is \")\n",
    "            if Number_of_guesses_left == 0:\n",
    "                break\n",
    "        elif your_number < random_number:\n",
    "            Number_of_guesses_left -= 1\n",
    "            print(f' Your number of guesses left is {Number_of_guesses_left}')\n",
    "            your_number = condition_to_play_the_game(\"Choose higher number. Your number is \")\n",
    "            if Number_of_guesses_left == 0:\n",
    "                break\n",
    "        elif your_number == random_number:\n",
    "            print(\"You win!\")\n",
    "\n",
    "    if Number_of_guesses_left == 0:\n",
    "        print(\"YOU LOOSE!\")\n",
    "        print(f' The random number was {random_number}')\n",
    "        guess_the_number()\n",
    "    if Number_of_guesses_left > 0:\n",
    "        print(\"YOU WIN!\")\n",
    "    print(f' The random number was {random_number}')\n",
    "    \n",
    "        \n",
    "guess_the_number()"
   ]
  }
 ],
 "metadata": {
  "kernelspec": {
   "display_name": "Python 3",
   "language": "python",
   "name": "python3"
  }
 },
 "nbformat": 4,
 "nbformat_minor": 2
}
