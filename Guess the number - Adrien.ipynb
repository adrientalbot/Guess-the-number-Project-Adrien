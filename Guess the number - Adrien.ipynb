{
 "cells": [
  {
   "cell_type": "code",
   "execution_count": 6,
   "metadata": {},
   "outputs": [],
   "source": [
    "import random"
   ]
  },
  {
   "cell_type": "code",
   "execution_count": 7,
   "metadata": {},
   "outputs": [
    {
     "name": "stdout",
     "output_type": "stream",
     "text": [
      "Choose any integer between 1 and 100. Your number is 45\n",
      " Your number of guesses left is 7\n",
      "Choose greater number. Your number is 46\n",
      " Your number of guesses left is 6\n",
      "Choose greater number. Your number is 47\n",
      " Your number of guesses left is 5\n",
      "Choose greater number. Your number is 47\n",
      " Your number of guesses left is 4\n",
      "Choose greater number. Your number is 47\n",
      " Your number of guesses left is 3\n",
      "Choose greater number. Your number is 47\n",
      " Your number of guesses left is 2\n",
      "Choose greater number. Your number is 47\n",
      " Your number of guesses left is 1\n",
      "Choose greater number. Your number is 47\n",
      " Your number of guesses left is 0\n",
      "Choose greater number. Your number is 47\n",
      "YOU LOOSE!\n",
      " The random number was 91\n"
     ]
    }
   ],
   "source": [
    "Number_of_guesses_left = 8\n",
    "your_number = int(input(\"Choose any integer between 1 and 100. Your number is \"))\n",
    "random_number = random.randint(1,100)\n",
    "if your_number == random_number:\n",
    "    print(\"YOU WIN WITH FIRST TRY, OMG!!\")\n",
    "while your_number != random_number:\n",
    "    if your_number > random_number:\n",
    "        Number_of_guesses_left -= 1\n",
    "        print(f' Your number of guesses left is {Number_of_guesses_left}')\n",
    "        new_number = int(input(\"Choose lower number. Your number is \"))\n",
    "        your_number = new_number\n",
    "        if Number_of_guesses_left == 0:\n",
    "            break\n",
    "    elif your_number < random_number:\n",
    "        Number_of_guesses_left -= 1\n",
    "        print(f' Your number of guesses left is {Number_of_guesses_left}')\n",
    "        new_number = int(input(\"Choose greater number. Your number is \"))\n",
    "        your_number = new_number\n",
    "        if Number_of_guesses_left == 0:\n",
    "            break\n",
    "    elif your_number == random_number:\n",
    "        print(\"You win!\")\n",
    "        \n",
    "if Number_of_guesses_left == 0:\n",
    "    print(\"YOU LOOSE!\")\n",
    "if Number_of_guesses_left > 0:\n",
    "    print(\"YOU WIN!\")\n",
    "print(f' The random number was {random_number}')\n",
    "\n"
   ]
  },
  {
   "cell_type": "code",
   "execution_count": 8,
   "metadata": {},
   "outputs": [
    {
     "name": "stdout",
     "output_type": "stream",
     "text": [
      "Choose any integer between 1 and 100. Your number is 45\n",
      " Your number of guesses left is 7\n",
      "Choose lower number. Your number is 40\n",
      " Your number of guesses left is 6\n",
      "Choose lower number. Your number is 20\n",
      " Your number of guesses left is 5\n",
      "Choose greater number. Your number is 30\n",
      " Your number of guesses left is 4\n",
      "Choose greater number. Your number is 35\n",
      " Your number of guesses left is 3\n",
      "Choose greater number. Your number is 37\n",
      " Your number of guesses left is 2\n",
      "Choose lower number. Your number is 36\n",
      "YOU WIN!\n",
      " The random number was 36\n"
     ]
    }
   ],
   "source": [
    "def guess_the_number():\n",
    "    \n",
    "    Number_of_guesses_left = 8\n",
    "    your_number = int(input(\"Choose any integer between 1 and 100. Your number is \"))\n",
    "    random_number = random.randint(1,100)\n",
    "    if your_number == random_number:\n",
    "        print(\"YOU WIN WITH FIRST TRY, OMG!!\")\n",
    "    while your_number != random_number:\n",
    "        if your_number > random_number:\n",
    "            Number_of_guesses_left -= 1\n",
    "            print(f' Your number of guesses left is {Number_of_guesses_left}')\n",
    "            new_number = int(input(\"Choose lower number. Your number is \"))\n",
    "            your_number = new_number\n",
    "            if Number_of_guesses_left == 0:\n",
    "                break\n",
    "        elif your_number < random_number:\n",
    "            Number_of_guesses_left -= 1\n",
    "            print(f' Your number of guesses left is {Number_of_guesses_left}')\n",
    "            new_number = int(input(\"Choose greater number. Your number is \"))\n",
    "            your_number = new_number\n",
    "            if Number_of_guesses_left == 0:\n",
    "                break\n",
    "        elif your_number == random_number:\n",
    "            print(\"You win!\")\n",
    "        \n",
    "    if Number_of_guesses_left == 0:\n",
    "        print(\"YOU LOOSE!\")\n",
    "    if Number_of_guesses_left > 0:\n",
    "        print(\"YOU WIN!\")\n",
    "    print(f' The random number was {random_number}')\n",
    "    \n",
    "guess_the_number()\n",
    "\n",
    "\n"
   ]
  },
  {
   "cell_type": "code",
   "execution_count": null,
   "metadata": {},
   "outputs": [],
   "source": []
  }
 ],
 "metadata": {
  "kernelspec": {
   "display_name": "Python 3",
   "language": "python",
   "name": "python3"
  },
  "language_info": {
   "codemirror_mode": {
    "name": "ipython",
    "version": 3
   },
   "file_extension": ".py",
   "mimetype": "text/x-python",
   "name": "python",
   "nbconvert_exporter": "python",
   "pygments_lexer": "ipython3",
   "version": "3.7.1"
  }
 },
 "nbformat": 4,
 "nbformat_minor": 2
}
